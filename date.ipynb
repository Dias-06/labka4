{
 "cells": [
  {
   "cell_type": "code",
   "execution_count": null,
   "metadata": {},
   "outputs": [
    {
     "name": "stdout",
     "output_type": "stream",
     "text": [
      "2025 2 13\n"
     ]
    }
   ],
   "source": [
    "#1task\n",
    "import datetime\n",
    "def Datefunction():\n",
    "    x=datetime.datetime.now()\n",
    "    print(x.year,x.month,x.strftime(\"%d\"))\n",
    "Datefunction()"
   ]
  },
  {
   "cell_type": "code",
   "execution_count": 10,
   "metadata": {},
   "outputs": [
    {
     "name": "stdout",
     "output_type": "stream",
     "text": [
      "today: 2025-02-13\n",
      "yesterday: 2025-02-12\n",
      "tomorrow: 2025-02-14\n"
     ]
    }
   ],
   "source": [
    "#2task\n",
    "from datetime import datetime, timedelta\n",
    "def f():\n",
    "    today=datetime.today()\n",
    "    yesterday=today-timedelta(days=1)\n",
    "    tommorow=today+timedelta(days=1)\n",
    "    print(\"today: \"+today.strftime(\"%Y-%m-%d\"))\n",
    "    print(\"yesterday: \" + yesterday.strftime(\"%Y-%m-%d\"))\n",
    "    print(\"tomorrow: \" + tommorow.strftime(\"%Y-%m-%d\"))\n",
    "f()    "
   ]
  },
  {
   "cell_type": "code",
   "execution_count": 13,
   "metadata": {},
   "outputs": [
    {
     "name": "stdout",
     "output_type": "stream",
     "text": [
      "2025-02-13 12:49:33.549285\n",
      "2025-02-13 12:49:33.549284\n"
     ]
    }
   ],
   "source": [
    "#3task\n",
    "from datetime import datetime, timedelta\n",
    "def f():\n",
    "    today=datetime.today()\n",
    "    print(today)\n",
    "    print(today+timedelta(microseconds=-1))\n",
    "f()    "
   ]
  },
  {
   "cell_type": "code",
   "execution_count": 17,
   "metadata": {},
   "outputs": [
    {
     "name": "stdout",
     "output_type": "stream",
     "text": [
      "443700.0\n"
     ]
    }
   ],
   "source": [
    "#4task\n",
    "def f(date1,date2):\n",
    "    format=\"%Y-%m-%d %H-%M-%S\";\n",
    "    d1=datetime.strptime(date1,format)\n",
    "    d2=datetime.strptime(date2,format)\n",
    "    res=abs((d1-d2).total_seconds())\n",
    "    print(res)\n",
    "date1 = \"2024-02-10 12-30-00\"\n",
    "date2 = \"2024-02-15 15-45-00\"\n",
    "f(date1,date2)    "
   ]
  },
  {
   "cell_type": "code",
   "execution_count": 18,
   "metadata": {},
   "outputs": [
    {
     "name": "stdout",
     "output_type": "stream",
     "text": [
      "2024-02-13 14:45:30\n",
      "<class 'datetime.datetime'>\n"
     ]
    }
   ],
   "source": [
    "\n",
    "date_string = \"2024-02-13 14-45-30\"\n",
    "format = \"%Y-%m-%d %H-%M-%S\"\n",
    "\n",
    "date_obj = datetime.strptime(date_string, format)\n",
    "print(date_obj)  # 2024-02-13 14:45:30\n",
    "print(type(date_obj))  # <class 'datetime.datetime'>"
   ]
  }
 ],
 "metadata": {
  "kernelspec": {
   "display_name": "Python 3",
   "language": "python",
   "name": "python3"
  },
  "language_info": {
   "codemirror_mode": {
    "name": "ipython",
    "version": 3
   },
   "file_extension": ".py",
   "mimetype": "text/x-python",
   "name": "python",
   "nbconvert_exporter": "python",
   "pygments_lexer": "ipython3",
   "version": "3.10.8"
  }
 },
 "nbformat": 4,
 "nbformat_minor": 2
}
