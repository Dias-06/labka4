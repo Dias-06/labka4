{
 "cells": [
  {
   "cell_type": "code",
   "execution_count": 3,
   "metadata": {},
   "outputs": [
    {
     "name": "stdout",
     "output_type": "stream",
     "text": [
      "interface status\n",
      "============================================================\n",
      "DM              Description     Speed      MTU  \n",
      "------------------------------------------------------------\n",
      "topology/pod-1/node-201/sys/phys-[eth1/33]                              inherit    9150 \n",
      "topology/pod-1/node-201/sys/phys-[eth1/34]                              inherit    9150 \n",
      "topology/pod-1/node-201/sys/phys-[eth1/35]                              inherit    9150 \n",
      "topology/pod-1/node-201/sys/phys-[eth1/36]                              inherit    9150 \n",
      "topology/pod-1/node-201/sys/phys-[eth1/1]                               inherit    9150 \n",
      "topology/pod-1/node-201/sys/phys-[eth1/2]                               inherit    9150 \n",
      "topology/pod-1/node-201/sys/phys-[eth1/3]                               inherit    9150 \n",
      "topology/pod-1/node-201/sys/phys-[eth1/4]                               inherit    9150 \n",
      "topology/pod-1/node-201/sys/phys-[eth1/5]                               inherit    9150 \n",
      "topology/pod-1/node-201/sys/phys-[eth1/6]                               inherit    9150 \n",
      "topology/pod-1/node-201/sys/phys-[eth1/7]                               inherit    9150 \n",
      "topology/pod-1/node-201/sys/phys-[eth1/8]                               inherit    9150 \n",
      "topology/pod-1/node-201/sys/phys-[eth1/9]                               inherit    9150 \n",
      "topology/pod-1/node-201/sys/phys-[eth1/10]                              inherit    9150 \n",
      "topology/pod-1/node-201/sys/phys-[eth1/11]                              inherit    9150 \n",
      "topology/pod-1/node-201/sys/phys-[eth1/12]                              inherit    9150 \n",
      "topology/pod-1/node-201/sys/phys-[eth1/13]                              inherit    9150 \n",
      "topology/pod-1/node-201/sys/phys-[eth1/14]                              inherit    9150 \n"
     ]
    }
   ],
   "source": [
    "import json\n",
    "with open('sample-data.json','r') as file:\n",
    "    data=json.load(file)\n",
    "print(\"interface status\")\n",
    "print(\"=\"*60)\n",
    "print(f\"{'DM':<15} {'Description':<15} {'Speed':<10} {'MTU':<5}\")\n",
    "print(\"-\"*60)\n",
    "for item in data[\"imdata\"]:\n",
    "    atributes=item[\"l1PhysIf\"][\"attributes\"]\n",
    "    dm=atributes[\"dn\"]\n",
    "    description=atributes[\"descr\"]\n",
    "    speed=atributes[\"speed\"]\n",
    "    mtu=atributes[\"mtu\"]\n",
    "    print(f\"{dm:<55} {description:<15} {speed:<10} {mtu:<5}\")        "
   ]
  }
 ],
 "metadata": {
  "kernelspec": {
   "display_name": "Python 3",
   "language": "python",
   "name": "python3"
  },
  "language_info": {
   "codemirror_mode": {
    "name": "ipython",
    "version": 3
   },
   "file_extension": ".py",
   "mimetype": "text/x-python",
   "name": "python",
   "nbconvert_exporter": "python",
   "pygments_lexer": "ipython3",
   "version": "3.10.8"
  }
 },
 "nbformat": 4,
 "nbformat_minor": 2
}
