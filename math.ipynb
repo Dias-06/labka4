{
 "cells": [
  {
   "cell_type": "code",
   "execution_count": 1,
   "metadata": {},
   "outputs": [
    {
     "name": "stdout",
     "output_type": "stream",
     "text": [
      "0.2617993877991494\n"
     ]
    }
   ],
   "source": [
    "import math\n",
    "def f(d):\n",
    "    r=d*math.pi/180\n",
    "    return r\n",
    "d=15    \n",
    "print(f(d))    "
   ]
  },
  {
   "cell_type": "code",
   "execution_count": 1,
   "metadata": {},
   "outputs": [
    {
     "name": "stdout",
     "output_type": "stream",
     "text": [
      "27.5\n"
     ]
    }
   ],
   "source": [
    "def area(a,b,h):\n",
    "    print((a+b)/2*h)\n",
    "area(5,6,5)    "
   ]
  },
  {
   "cell_type": "code",
   "execution_count": 2,
   "metadata": {},
   "outputs": [
    {
     "name": "stdout",
     "output_type": "stream",
     "text": [
      "The area of the regular polygon with 5 sides, each of length 6, is 61.94\n"
     ]
    }
   ],
   "source": [
    "import math\n",
    "\n",
    "def polygon_area(num_sides, side_length):\n",
    "    area = (num_sides * side_length ** 2) / (4 * math.tan(math.pi / num_sides))\n",
    "    return area\n",
    "\n",
    "\n",
    "num_sides = 5\n",
    "side_length = 6\n",
    "area = polygon_area(num_sides, side_length)\n",
    "print(f\"The area of the regular polygon with {num_sides} sides, each of length {side_length}, is {area:.2f}\")\n"
   ]
  },
  {
   "cell_type": "code",
   "execution_count": null,
   "metadata": {},
   "outputs": [],
   "source": [
    "def paralellogram(b,h):\n",
    "    area=b*h\n",
    "    return area\n",
    "print(paralellogram(5,6))"
   ]
  }
 ],
 "metadata": {
  "kernelspec": {
   "display_name": "Python 3",
   "language": "python",
   "name": "python3"
  },
  "language_info": {
   "codemirror_mode": {
    "name": "ipython",
    "version": 3
   },
   "file_extension": ".py",
   "mimetype": "text/x-python",
   "name": "python",
   "nbconvert_exporter": "python",
   "pygments_lexer": "ipython3",
   "version": "3.10.8"
  }
 },
 "nbformat": 4,
 "nbformat_minor": 2
}
